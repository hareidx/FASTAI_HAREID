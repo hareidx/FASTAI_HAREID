{
  "nbformat": 4,
  "nbformat_minor": 0,
  "metadata": {
    "colab": {
      "name": "FASTAI - Week 01.ipynb",
      "provenance": [],
      "authorship_tag": "ABX9TyM5fFMJRsOBBK/o0BJFnetV",
      "include_colab_link": true
    },
    "kernelspec": {
      "name": "python3",
      "display_name": "Python 3"
    },
    "language_info": {
      "name": "python"
    }
  },
  "cells": [
    {
      "cell_type": "markdown",
      "metadata": {
        "id": "view-in-github",
        "colab_type": "text"
      },
      "source": [
        "<a href=\"https://colab.research.google.com/github/hareidx/FASTAI_HAREID/blob/main/FASTAI_Week_01.ipynb\" target=\"_parent\"><img src=\"https://colab.research.google.com/assets/colab-badge.svg\" alt=\"Open In Colab\"/></a>"
      ]
    },
    {
      "cell_type": "code",
      "execution_count": 1,
      "metadata": {
        "colab": {
          "base_uri": "https://localhost:8080/"
        },
        "id": "saxs-TwyiTpf",
        "outputId": "04d7d75d-85d5-400f-c9b9-24a9286d4f23"
      },
      "outputs": [
        {
          "output_type": "stream",
          "name": "stdout",
          "text": [
            "internet connection is fine\n"
          ]
        }
      ],
      "source": [
        "import socket, warnings\n",
        "try:\n",
        "  socket.setdefaulttimeout(1)\n",
        "  socket.socket(socket.AF_INET, socket.SOCK_STREAM).connect(('1.1.1.1', 53))\n",
        "  print(f'internet connection is fine')\n",
        "except socket.error as ex: raise Exception(\"STOP: No internet. Click '>|' in the top right and set 'Internet' Switch to on\")"
      ]
    },
    {
      "cell_type": "code",
      "source": [
        "!pip install -Uqq fastai"
      ],
      "metadata": {
        "colab": {
          "base_uri": "https://localhost:8080/"
        },
        "id": "dtUm_FHxiYca",
        "outputId": "87d1d13b-bbda-45c8-99f2-fd18ff0f6efb"
      },
      "execution_count": 2,
      "outputs": [
        {
          "output_type": "stream",
          "name": "stdout",
          "text": [
            "\u001b[K     |████████████████████████████████| 197 kB 4.3 MB/s \n",
            "\u001b[K     |████████████████████████████████| 60 kB 5.5 MB/s \n",
            "\u001b[?25h"
          ]
        }
      ]
    },
    {
      "cell_type": "code",
      "source": [
        ""
      ],
      "metadata": {
        "id": "t34G-w6miZVg"
      },
      "execution_count": null,
      "outputs": []
    },
    {
      "cell_type": "code",
      "source": [
        ""
      ],
      "metadata": {
        "id": "dRHafp5TkGqS"
      },
      "execution_count": null,
      "outputs": []
    }
  ]
}